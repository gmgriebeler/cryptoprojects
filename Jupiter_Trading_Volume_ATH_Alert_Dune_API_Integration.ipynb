{
  "nbformat": 4,
  "nbformat_minor": 0,
  "metadata": {
    "colab": {
      "provenance": [],
      "authorship_tag": "ABX9TyOTGPfOy1o3gZUyaP/EtNYZ",
      "include_colab_link": true
    },
    "kernelspec": {
      "name": "python3",
      "display_name": "Python 3"
    },
    "language_info": {
      "name": "python"
    }
  },
  "cells": [
    {
      "cell_type": "markdown",
      "metadata": {
        "id": "view-in-github",
        "colab_type": "text"
      },
      "source": [
        "<a href=\"https://colab.research.google.com/github/gmgriebeler/cryptoprojects/blob/main/Jupiter_Trading_Volume_ATH_Alert_Dune_API_Integration.ipynb\" target=\"_parent\"><img src=\"https://colab.research.google.com/assets/colab-badge.svg\" alt=\"Open In Colab\"/></a>"
      ]
    },
    {
      "cell_type": "markdown",
      "source": [
        "IMPORTING LIBRARIES"
      ],
      "metadata": {
        "id": "u5Y7X0MZkm_v"
      }
    },
    {
      "cell_type": "code",
      "execution_count": 38,
      "metadata": {
        "id": "C7Pdkk2T1BIN"
      },
      "outputs": [],
      "source": [
        "import requests\n",
        "import time\n",
        "import os\n",
        "import json\n",
        "import shutil"
      ]
    },
    {
      "cell_type": "markdown",
      "source": [
        "SETTING PARAMETERS"
      ],
      "metadata": {
        "id": "wfLCSj36ksuo"
      }
    },
    {
      "cell_type": "code",
      "source": [
        "DUNE_API_KEY = \"8z6e753mdb9XDNVMwOo06io0T4KkfISC\"\n",
        "QUERY_ID = 5193365\n",
        "DISCORD_WEBHOOK_URL = \"https://discord.com/api/webhooks/1377240009652047962/cGLDakg2YqKy_hMJEsVeLiPPwA0qY7-25Kubuemhq3YR4u7fywG_0_eBUrV7AKmfCrFf\"\n",
        "\n",
        "headers = {\n",
        "    \"x-dune-api-key\": DUNE_API_KEY\n",
        "}"
      ],
      "metadata": {
        "id": "urjLMINJ25L3"
      },
      "execution_count": 39,
      "outputs": []
    },
    {
      "cell_type": "markdown",
      "source": [
        "QUERY EXECUTION"
      ],
      "metadata": {
        "id": "GwCFIZxomzxF"
      }
    },
    {
      "cell_type": "code",
      "source": [
        "execute_response = requests.post(\n",
        "    f\"https://api.dune.com/api/v1/query/{QUERY_ID}/execute\",\n",
        "    headers=headers\n",
        ")\n",
        "execution_id = execute_response.json()[\"execution_id\"]\n",
        "print(f\"Query executed. Execution ID: {execution_id}\")"
      ],
      "metadata": {
        "colab": {
          "base_uri": "https://localhost:8080/"
        },
        "id": "QbO8-Kjs25Im",
        "outputId": "991200b3-b257-4af0-c80c-72c94fafd769"
      },
      "execution_count": 40,
      "outputs": [
        {
          "output_type": "stream",
          "name": "stdout",
          "text": [
            "Query executed. Execution ID: 01JWBJDPPDYSHR5TF0MK53Q3ZH\n"
          ]
        }
      ]
    },
    {
      "cell_type": "markdown",
      "source": [
        "POLL FOR STATUS"
      ],
      "metadata": {
        "id": "O_qvdxFJm32r"
      }
    },
    {
      "cell_type": "code",
      "source": [
        "while True:\n",
        "    status_response = requests.get(\n",
        "        f\"https://api.dune.com/api/v1/execution/{execution_id}/status\",\n",
        "        headers=headers\n",
        "    )\n",
        "    state = status_response.json()[\"state\"]\n",
        "    print(f\"Query state: {state}\")\n",
        "\n",
        "    if state == \"QUERY_STATE_COMPLETED\":\n",
        "        break\n",
        "    elif state in [\"QUERY_STATE_FAILED\", \"QUERY_STATE_CANCELLED\", \"QUERY_STATE_ERRORED\"]:\n",
        "        raise Exception(f\"Query failed with state: {state}\")\n",
        "\n",
        "    time.sleep(2)  # wait before checking again"
      ],
      "metadata": {
        "colab": {
          "base_uri": "https://localhost:8080/"
        },
        "id": "4ZDW8LyJ25BB",
        "outputId": "e5a4ce18-ccc8-4825-ae01-81f695efa6b2"
      },
      "execution_count": 41,
      "outputs": [
        {
          "output_type": "stream",
          "name": "stdout",
          "text": [
            "Query state: QUERY_STATE_PENDING\n",
            "Query state: QUERY_STATE_PENDING\n",
            "Query state: QUERY_STATE_PENDING\n",
            "Query state: QUERY_STATE_PENDING\n",
            "Query state: QUERY_STATE_PENDING\n",
            "Query state: QUERY_STATE_PENDING\n",
            "Query state: QUERY_STATE_PENDING\n",
            "Query state: QUERY_STATE_PENDING\n",
            "Query state: QUERY_STATE_PENDING\n",
            "Query state: QUERY_STATE_PENDING\n",
            "Query state: QUERY_STATE_PENDING\n",
            "Query state: QUERY_STATE_PENDING\n",
            "Query state: QUERY_STATE_PENDING\n",
            "Query state: QUERY_STATE_PENDING\n",
            "Query state: QUERY_STATE_PENDING\n",
            "Query state: QUERY_STATE_PENDING\n",
            "Query state: QUERY_STATE_PENDING\n",
            "Query state: QUERY_STATE_PENDING\n",
            "Query state: QUERY_STATE_PENDING\n",
            "Query state: QUERY_STATE_PENDING\n",
            "Query state: QUERY_STATE_PENDING\n",
            "Query state: QUERY_STATE_PENDING\n",
            "Query state: QUERY_STATE_PENDING\n",
            "Query state: QUERY_STATE_PENDING\n",
            "Query state: QUERY_STATE_PENDING\n",
            "Query state: QUERY_STATE_PENDING\n",
            "Query state: QUERY_STATE_PENDING\n",
            "Query state: QUERY_STATE_PENDING\n",
            "Query state: QUERY_STATE_PENDING\n",
            "Query state: QUERY_STATE_PENDING\n",
            "Query state: QUERY_STATE_PENDING\n",
            "Query state: QUERY_STATE_PENDING\n",
            "Query state: QUERY_STATE_PENDING\n",
            "Query state: QUERY_STATE_PENDING\n",
            "Query state: QUERY_STATE_PENDING\n",
            "Query state: QUERY_STATE_PENDING\n",
            "Query state: QUERY_STATE_PENDING\n",
            "Query state: QUERY_STATE_PENDING\n",
            "Query state: QUERY_STATE_PENDING\n",
            "Query state: QUERY_STATE_PENDING\n",
            "Query state: QUERY_STATE_PENDING\n",
            "Query state: QUERY_STATE_PENDING\n",
            "Query state: QUERY_STATE_PENDING\n",
            "Query state: QUERY_STATE_PENDING\n",
            "Query state: QUERY_STATE_PENDING\n",
            "Query state: QUERY_STATE_PENDING\n",
            "Query state: QUERY_STATE_PENDING\n",
            "Query state: QUERY_STATE_PENDING\n",
            "Query state: QUERY_STATE_PENDING\n",
            "Query state: QUERY_STATE_PENDING\n",
            "Query state: QUERY_STATE_PENDING\n",
            "Query state: QUERY_STATE_EXECUTING\n",
            "Query state: QUERY_STATE_EXECUTING\n",
            "Query state: QUERY_STATE_EXECUTING\n",
            "Query state: QUERY_STATE_EXECUTING\n",
            "Query state: QUERY_STATE_EXECUTING\n",
            "Query state: QUERY_STATE_EXECUTING\n",
            "Query state: QUERY_STATE_EXECUTING\n",
            "Query state: QUERY_STATE_EXECUTING\n",
            "Query state: QUERY_STATE_EXECUTING\n",
            "Query state: QUERY_STATE_EXECUTING\n",
            "Query state: QUERY_STATE_EXECUTING\n",
            "Query state: QUERY_STATE_EXECUTING\n",
            "Query state: QUERY_STATE_EXECUTING\n",
            "Query state: QUERY_STATE_EXECUTING\n",
            "Query state: QUERY_STATE_EXECUTING\n",
            "Query state: QUERY_STATE_EXECUTING\n",
            "Query state: QUERY_STATE_EXECUTING\n",
            "Query state: QUERY_STATE_EXECUTING\n",
            "Query state: QUERY_STATE_EXECUTING\n",
            "Query state: QUERY_STATE_EXECUTING\n",
            "Query state: QUERY_STATE_EXECUTING\n",
            "Query state: QUERY_STATE_EXECUTING\n",
            "Query state: QUERY_STATE_EXECUTING\n",
            "Query state: QUERY_STATE_EXECUTING\n",
            "Query state: QUERY_STATE_EXECUTING\n",
            "Query state: QUERY_STATE_EXECUTING\n",
            "Query state: QUERY_STATE_EXECUTING\n",
            "Query state: QUERY_STATE_EXECUTING\n",
            "Query state: QUERY_STATE_EXECUTING\n",
            "Query state: QUERY_STATE_COMPLETED\n"
          ]
        }
      ]
    },
    {
      "cell_type": "markdown",
      "source": [
        "FETCH THE RESULTS"
      ],
      "metadata": {
        "id": "7B631QUcnGQX"
      }
    },
    {
      "cell_type": "code",
      "source": [
        "results_response = requests.get(\n",
        "    f\"https://api.dune.com/api/v1/execution/{execution_id}/results\",\n",
        "    headers=headers\n",
        ")\n",
        "results = results_response.json()\n",
        "print(results)"
      ],
      "metadata": {
        "colab": {
          "base_uri": "https://localhost:8080/"
        },
        "id": "77rojh2c2463",
        "outputId": "2110c6c9-4d68-4fa5-b28e-e081abe12f57"
      },
      "execution_count": 42,
      "outputs": [
        {
          "output_type": "stream",
          "name": "stdout",
          "text": [
            "{'execution_id': '01JWBJDPPDYSHR5TF0MK53Q3ZH', 'query_id': 5193365, 'is_execution_finished': True, 'state': 'QUERY_STATE_COMPLETED', 'submitted_at': '2025-05-28T13:48:31.82149Z', 'expires_at': '2025-08-26T13:51:46.827257Z', 'execution_started_at': '2025-05-28T13:50:35.926892Z', 'execution_ended_at': '2025-05-28T13:51:46.827256Z', 'result': {'rows': [{'volume': 2926425699.0544086, 'volume_rank': 76, 'week': '2025-05-26 00:00:00.000 UTC'}], 'metadata': {'column_names': ['week', 'volume', 'volume_rank'], 'column_types': ['timestamp(3) with time zone', 'double', 'bigint'], 'row_count': 1, 'result_set_bytes': 24, 'total_row_count': 1, 'total_result_set_bytes': 24, 'datapoint_count': 3, 'pending_time_millis': 124105, 'execution_time_millis': 70900}}}\n"
          ]
        }
      ]
    },
    {
      "cell_type": "markdown",
      "source": [
        "EXTRACTING VALUES FROM RESULTS"
      ],
      "metadata": {
        "id": "NKgGS1eRnMx0"
      }
    },
    {
      "cell_type": "code",
      "source": [
        "row = results[\"result\"][\"rows\"][0]  # assuming only 1 row is returned\n",
        "week = row[\"week\"][:10]\n",
        "volume = row[\"volume\"]\n",
        "rank = row[\"volume_rank\"]"
      ],
      "metadata": {
        "id": "uFblgm6XmYQ2"
      },
      "execution_count": 43,
      "outputs": []
    },
    {
      "cell_type": "markdown",
      "source": [
        "COMPOSING AND SENDING DISCORD MESSAGE"
      ],
      "metadata": {
        "id": "KdgaE_4InSqn"
      }
    },
    {
      "cell_type": "code",
      "source": [
        "discord_message = {\n",
        "    \"content\": (\n",
        "        f\"Jupiter Total Volume Weekly Update\\n\"\n",
        "        f\"**Week of {week}**\\n\"\n",
        "        f\"Total Volume: **${volume:,.2f}**\\n\"\n",
        "        f\"Rank: **#{rank} all-time**\"\n",
        "    )\n",
        "}\n",
        "\n",
        "discord_response = requests.post(DISCORD_WEBHOOK_URL, json=discord_message)\n",
        "\n",
        "if discord_response.status_code == 204:\n",
        "    print(\"Message successfully sent to Discord!\")\n",
        "else:\n",
        "    print(f\"Failed to send message. Status: {discord_response.status_code}\")\n",
        "    print(discord_response.text)"
      ],
      "metadata": {
        "colab": {
          "base_uri": "https://localhost:8080/"
        },
        "id": "rgT-iNHEnUSc",
        "outputId": "76bd8e20-3d12-493b-cdb5-1873710a1fe2"
      },
      "execution_count": 44,
      "outputs": [
        {
          "output_type": "stream",
          "name": "stdout",
          "text": [
            "Message successfully sent to Discord!\n"
          ]
        }
      ]
    },
    {
      "cell_type": "markdown",
      "source": [
        "SAVING RESULTS TO JSON FILE"
      ],
      "metadata": {
        "id": "JPER_dMGngYe"
      }
    },
    {
      "cell_type": "code",
      "source": [
        "json_file_path = \"dune_results.json\"\n",
        "with open(json_file_path, \"w\") as json_file:\n",
        "    json.dump(results, json_file, indent=4)\n",
        "\n",
        "print(f\"JSON results saved to {json_file_path}\")\n",
        "\n",
        "downloads_path = os.path.join(os.environ[\"HOME\"], \"Downloads\")\n",
        "shutil.copy(json_file_path, downloads_path)\n",
        "\n",
        "print(f\"File copied to {downloads_path}\")"
      ],
      "metadata": {
        "colab": {
          "base_uri": "https://localhost:8080/"
        },
        "id": "BfPTgzjXI4df",
        "outputId": "b833f7cc-8bd4-4508-9861-c49f28e6b595"
      },
      "execution_count": 45,
      "outputs": [
        {
          "output_type": "stream",
          "name": "stdout",
          "text": [
            "JSON results saved to dune_results.json\n",
            "File copied to /root/Downloads\n"
          ]
        }
      ]
    },
    {
      "cell_type": "markdown",
      "source": [
        "EXPORTING JSON FILE"
      ],
      "metadata": {
        "id": "2OFnroVLnkzl"
      }
    },
    {
      "cell_type": "code",
      "source": [
        "# from google.colab import files\n",
        "# files.download(\"dune_results.json\")"
      ],
      "metadata": {
        "id": "Tqa3G4W5LZi-"
      },
      "execution_count": 46,
      "outputs": []
    }
  ]
}